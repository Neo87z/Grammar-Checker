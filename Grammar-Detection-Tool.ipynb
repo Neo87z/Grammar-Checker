{
  "nbformat": 4,
  "nbformat_minor": 0,
  "metadata": {
    "colab": {
      "provenance": [],
      "machine_shape": "hm",
      "authorship_tag": "ABX9TyNoJQLCmWOzYDSV9BrYNREY",
      "include_colab_link": true
    },
    "kernelspec": {
      "name": "python3",
      "display_name": "Python 3"
    },
    "language_info": {
      "name": "python"
    },
    "gpuClass": "standard"
  },
  "cells": [
    {
      "cell_type": "markdown",
      "metadata": {
        "id": "view-in-github",
        "colab_type": "text"
      },
      "source": [
        "<a href=\"https://colab.research.google.com/github/Neo87z/Python-Grammar-Detection-Tool/blob/main/Grammar-Detection-Tool.ipynb\" target=\"_parent\"><img src=\"https://colab.research.google.com/assets/colab-badge.svg\" alt=\"Open In Colab\"/></a>"
      ]
    },
    {
      "cell_type": "code",
      "execution_count": null,
      "metadata": {
        "id": "jhzFwQjKD3u6"
      },
      "outputs": [],
      "source": [
        "# grammar and spelling mistake detection function\n",
        "!pip install language_tool_python\n",
        "import language_tool_python\n",
        "\n",
        "def grammar_spelling_mistakes(txt):\n",
        "    \n",
        "    tool = language_tool_python.LanguageTool('en-US')  # use a local server (automatically set up), language English\n",
        "\n",
        "    \n",
        "    matches = tool.check(txt)#Checking the text \n",
        "    MistakeMessage=[] \n",
        "    PossibleRepalceMents=[]\n",
        "    ErrorCategory=[]\n",
        "    RuleType=[]\n",
        "    ContextData=[]\n",
        "    length = len(matches)\n",
        "\n",
        "    for i in range(length):#adding the msikates to teh liost\n",
        "      MistakeMessage.append(matches[i].message)\n",
        "      PossibleRepalceMents.append(matches[i].replacements)\n",
        "      ErrorCategory.append(matches[i].category)\n",
        "      RuleType.append(matches[i].ruleIssueType)\n",
        "      ContextData.append(matches[i].context)\n",
        "      \n",
        "\n",
        "    dataXXX={\n",
        "        \"ContextData\":ContextData,\n",
        "        \"NumberOfMistakes\":length,\n",
        "        \"MistakeMessage\":MistakeMessage,\n",
        "        \"PossibleReplacemEnts\":PossibleRepalceMents,\n",
        "        \"ErrorCaterygy\":ErrorCategory,\n",
        "        \"RuleType\":RuleType,\n",
        "\n",
        "    } \n",
        "    return (dataXXX)\n",
        "\n",
        "\n",
        "# calling the function\n",
        "Data=(grammar_spelling_mistakes(\"aim to improve the human condition. They are linked to the Sustainable Development Goals (SDGs), which are sets of goals that aim to address the poverty of the poorest, the inequality of the poor, promote gender equality and empower women and girls. The poverty of the poorest The SDGs include 10 specific goals that each aim at improving the poverty that is caused by environmental degradation and other forms of social and economic injustice. For example, the first goal of the SDGs is to improve the living standard of the poorest 20 percent of the population by 2030. The first goal of the SDGs is to improve the living standard of the poorest 20 percent of the population by 2030. The poverty of the poorest is considered in the context of the Millennium Development Goals, which are a set of goals that aim to improve the general human\"))\n",
        "print(Data)\n",
        "    "
      ]
    },
    {
      "cell_type": "code",
      "source": [
        "!pip install flask_ngrok\n",
        "!pip install -U flask-cors\n",
        "!pip install pyngrok"
      ],
      "metadata": {
        "colab": {
          "base_uri": "https://localhost:8080/"
        },
        "id": "jIDt2U_OEXgU",
        "outputId": "6400c850-3518-461b-c0db-6272fc7dd14d"
      },
      "execution_count": null,
      "outputs": [
        {
          "output_type": "stream",
          "name": "stdout",
          "text": [
            "Looking in indexes: https://pypi.org/simple, https://us-python.pkg.dev/colab-wheels/public/simple/\n",
            "Collecting flask_ngrok\n",
            "  Downloading flask_ngrok-0.0.25-py3-none-any.whl (3.1 kB)\n",
            "Requirement already satisfied: requests in /usr/local/lib/python3.7/dist-packages (from flask_ngrok) (2.23.0)\n",
            "Requirement already satisfied: Flask>=0.8 in /usr/local/lib/python3.7/dist-packages (from flask_ngrok) (1.1.4)\n",
            "Requirement already satisfied: click<8.0,>=5.1 in /usr/local/lib/python3.7/dist-packages (from Flask>=0.8->flask_ngrok) (7.1.2)\n",
            "Requirement already satisfied: Werkzeug<2.0,>=0.15 in /usr/local/lib/python3.7/dist-packages (from Flask>=0.8->flask_ngrok) (1.0.1)\n",
            "Requirement already satisfied: Jinja2<3.0,>=2.10.1 in /usr/local/lib/python3.7/dist-packages (from Flask>=0.8->flask_ngrok) (2.11.3)\n",
            "Requirement already satisfied: itsdangerous<2.0,>=0.24 in /usr/local/lib/python3.7/dist-packages (from Flask>=0.8->flask_ngrok) (1.1.0)\n",
            "Requirement already satisfied: MarkupSafe>=0.23 in /usr/local/lib/python3.7/dist-packages (from Jinja2<3.0,>=2.10.1->Flask>=0.8->flask_ngrok) (2.0.1)\n",
            "Requirement already satisfied: urllib3!=1.25.0,!=1.25.1,<1.26,>=1.21.1 in /usr/local/lib/python3.7/dist-packages (from requests->flask_ngrok) (1.24.3)\n",
            "Requirement already satisfied: idna<3,>=2.5 in /usr/local/lib/python3.7/dist-packages (from requests->flask_ngrok) (2.10)\n",
            "Requirement already satisfied: certifi>=2017.4.17 in /usr/local/lib/python3.7/dist-packages (from requests->flask_ngrok) (2022.9.24)\n",
            "Requirement already satisfied: chardet<4,>=3.0.2 in /usr/local/lib/python3.7/dist-packages (from requests->flask_ngrok) (3.0.4)\n",
            "Installing collected packages: flask-ngrok\n",
            "Successfully installed flask-ngrok-0.0.25\n",
            "Looking in indexes: https://pypi.org/simple, https://us-python.pkg.dev/colab-wheels/public/simple/\n",
            "Collecting flask-cors\n",
            "  Downloading Flask_Cors-3.0.10-py2.py3-none-any.whl (14 kB)\n",
            "Requirement already satisfied: Six in /usr/local/lib/python3.7/dist-packages (from flask-cors) (1.15.0)\n",
            "Requirement already satisfied: Flask>=0.9 in /usr/local/lib/python3.7/dist-packages (from flask-cors) (1.1.4)\n",
            "Requirement already satisfied: itsdangerous<2.0,>=0.24 in /usr/local/lib/python3.7/dist-packages (from Flask>=0.9->flask-cors) (1.1.0)\n",
            "Requirement already satisfied: Jinja2<3.0,>=2.10.1 in /usr/local/lib/python3.7/dist-packages (from Flask>=0.9->flask-cors) (2.11.3)\n",
            "Requirement already satisfied: click<8.0,>=5.1 in /usr/local/lib/python3.7/dist-packages (from Flask>=0.9->flask-cors) (7.1.2)\n",
            "Requirement already satisfied: Werkzeug<2.0,>=0.15 in /usr/local/lib/python3.7/dist-packages (from Flask>=0.9->flask-cors) (1.0.1)\n",
            "Requirement already satisfied: MarkupSafe>=0.23 in /usr/local/lib/python3.7/dist-packages (from Jinja2<3.0,>=2.10.1->Flask>=0.9->flask-cors) (2.0.1)\n",
            "Installing collected packages: flask-cors\n",
            "Successfully installed flask-cors-3.0.10\n",
            "Looking in indexes: https://pypi.org/simple, https://us-python.pkg.dev/colab-wheels/public/simple/\n",
            "Collecting pyngrok\n",
            "  Downloading pyngrok-5.1.0.tar.gz (745 kB)\n",
            "\u001b[K     |████████████████████████████████| 745 kB 5.1 MB/s \n",
            "\u001b[?25hRequirement already satisfied: PyYAML in /usr/local/lib/python3.7/dist-packages (from pyngrok) (6.0)\n",
            "Building wheels for collected packages: pyngrok\n",
            "  Building wheel for pyngrok (setup.py) ... \u001b[?25l\u001b[?25hdone\n",
            "  Created wheel for pyngrok: filename=pyngrok-5.1.0-py3-none-any.whl size=19007 sha256=6cb0e0d3048781957df77f625be7a6d1f66d09eba66838e4696fe7686568d734\n",
            "  Stored in directory: /root/.cache/pip/wheels/bf/e6/af/ccf6598ecefecd44104069371795cb9b3afbcd16987f6ccfb3\n",
            "Successfully built pyngrok\n",
            "Installing collected packages: pyngrok\n",
            "Successfully installed pyngrok-5.1.0\n"
          ]
        }
      ]
    },
    {
      "cell_type": "code",
      "source": [
        "CheckSum=True;"
      ],
      "metadata": {
        "id": "9OPvHLdtOTVh"
      },
      "execution_count": null,
      "outputs": []
    },
    {
      "cell_type": "code",
      "source": [
        "from flask import *\n",
        "from flask_ngrok import run_with_ngrok\n",
        "from flask import Flask\n",
        "from flask_cors import CORS\n",
        "app = Flask(__name__)\n",
        "cors = CORS(app)"
      ],
      "metadata": {
        "id": "imnLxh7oEZRN"
      },
      "execution_count": null,
      "outputs": []
    },
    {
      "cell_type": "code",
      "source": [
        "@app.route(\"/GetGrammarMistakes\",methods=['POST'])\n",
        "def GetEssay():\n",
        "  global CheckSum\n",
        "  if(CheckSum == True):\n",
        "    CheckSum=False\n",
        "    print('jiii')\n",
        "    Essay=\"I hapy beautifl abando ack amog \"\n",
        "    Data=reqData=request.get_json()\n",
        "    MyAEssay=Data['EssaYdata']\n",
        "    print(MyAEssay,)\n",
        "    MyData=grammar_spelling_mistakes(MyAEssay)\n",
        "    print('Done')\n",
        "    print(MyData)\n",
        "    CheckSum = True\n",
        "    return (MyData)"
      ],
      "metadata": {
        "id": "sHg_4qQKEap8"
      },
      "execution_count": null,
      "outputs": []
    },
    {
      "cell_type": "code",
      "source": [
        "! ngrok authtoken 2HUiohhS7ppLHsYrAH3MyxdPN6I_7btLctR7Qa5jP5nPBnWYA"
      ],
      "metadata": {
        "colab": {
          "base_uri": "https://localhost:8080/"
        },
        "id": "eJFhF6fREb58",
        "outputId": "3e8faed5-33dc-4e2e-879f-cda6cd4a2aea"
      },
      "execution_count": null,
      "outputs": [
        {
          "output_type": "stream",
          "name": "stdout",
          "text": [
            "Authtoken saved to configuration file: /root/.ngrok2/ngrok.yml\n"
          ]
        }
      ]
    },
    {
      "cell_type": "code",
      "source": [
        "run_with_ngrok(app)\n",
        "app.run()"
      ],
      "metadata": {
        "colab": {
          "base_uri": "https://localhost:8080/"
        },
        "id": "487KfyKKEdEd",
        "outputId": "ce716def-2417-45ca-beba-f7ef118bfde4"
      },
      "execution_count": null,
      "outputs": [
        {
          "output_type": "stream",
          "name": "stdout",
          "text": [
            " * Serving Flask app \"__main__\" (lazy loading)\n",
            " * Environment: production\n",
            "\u001b[31m   WARNING: This is a development server. Do not use it in a production deployment.\u001b[0m\n",
            "\u001b[2m   Use a production WSGI server instead.\u001b[0m\n",
            " * Debug mode: off\n"
          ]
        },
        {
          "output_type": "stream",
          "name": "stderr",
          "text": [
            "INFO:werkzeug: * Running on http://127.0.0.1:5000/ (Press CTRL+C to quit)\n"
          ]
        },
        {
          "output_type": "stream",
          "name": "stdout",
          "text": [
            " * Running on http://be5e-34-68-37-10.ngrok.io\n",
            " * Traffic stats available on http://127.0.0.1:4040\n"
          ]
        },
        {
          "output_type": "stream",
          "name": "stderr",
          "text": [
            "INFO:werkzeug:127.0.0.1 - - [14/Nov/2022 01:42:54] \"\u001b[37mOPTIONS /GetGrammarMistakes HTTP/1.1\u001b[0m\" 200 -\n"
          ]
        },
        {
          "output_type": "stream",
          "name": "stdout",
          "text": [
            "jiii\n",
            " the pros and cons of online retail The pros and cons of online retail are numerous. First, online retail is a form of retailing. Second, it is a relatively new business model. Third, it has tremendous potential to disrupt retail. Fourth, it is a relatively new space for the internet. Online retail is a form of retailing. In the retail industry, online retail is a form of retailing. In the online retail industry, it’s a form of retailing. In essence, the online and offline ae not at all related. The offline retail space is a physical space, a store. The online space is the online space. The offline space is the physical space, the physical store. In my opinion, online retail is a form of retailing. Online retail is the most profitable form of retailing. First, online retail is a form of retailing. in the retail space, onlinse retail is a form of retailing. In the online space, it’s a form of retailing. The online retail space is not the same thing as the offline retail space. The offline retail space is the physical space, the store. The online retail space is the online retail space. Online retail is a form of retailing. In the offline space, online retail is a form of retailing. In the online space, it’s a form of retailing. The online space is relatively new. The offline space is relatively new. The online space is not new. The offline space is relatively old. The online space is relatively new. In the offline space, online retail is not new. In the offline space, online retail is relatively new. In the online space, the offline space is relatively new. The offline retail space is very old. In the offline space, the offline space is very very  old. The offline retail space is very new. The offline retail space is very new. The offline retail space is relatively new. The online retail space is relatively new. The online space is relatively new. There are some similarities between the offline and online retail spaces. The offline retail space is a physical space, a store. The online space is the online space. The offline space is the physical store. The offline space is relatively new. The online space is relatively new. The offline space\n"
          ]
        },
        {
          "output_type": "stream",
          "name": "stderr",
          "text": [
            "INFO:werkzeug:127.0.0.1 - - [14/Nov/2022 01:43:04] \"\u001b[37mPOST /GetGrammarMistakes HTTP/1.1\u001b[0m\" 200 -\n",
            "INFO:werkzeug:127.0.0.1 - - [14/Nov/2022 01:43:04] \"\u001b[37mOPTIONS /GetGrammarMistakes HTTP/1.1\u001b[0m\" 200 -\n"
          ]
        },
        {
          "output_type": "stream",
          "name": "stdout",
          "text": [
            "Done\n",
            "{'ContextData': [' the pros and cons of online retail The pros...', '...ail industry, it’s a form of retailing. In essence, the online and offline ae not ...', '...ing. In essence, the online and offline ae not at all related. The offline retail ...', '..., online retail is a form of retailing. in the retail space, onlinse retail is a f...', '...form of retailing. in the retail space, onlinse retail is a form of retailing. In the o...', '...space, online retail is relatively new. In the online space, the offline space is ...', '...the offline space, the offline space is very very  old. The offline retail space is very ...', '...ne space, the offline space is very very  old. The offline retail space is very ne...'], 'NumberOfMistakes': 8, 'MistakeMessage': ['This sentence does not start with an uppercase letter.', 'Three successive sentences begin with the same word. Consider rewording the sentence or use a thesaurus to find a synonym.', 'Possible spelling mistake found.', 'This sentence does not start with an uppercase letter.', 'Possible spelling mistake found.', 'Three successive sentences begin with the same word. Consider rewording the sentence or use a thesaurus to find a synonym.', 'Consider adding a comma between these intensifiers.', 'Possible typo: you repeated a whitespace'], 'PossibleReplacemEnts': [['The'], [], ['eye', 'AE', 'a', 'as', 'at', 'an', 'are', 'he', 'we', 'be', 'me', 'age', 'am', 'eyes', 'ad', 'ace', 'ate', 'eyed', 'AF', 'Mae', 'ale', 'ape', 'awe', 'AEC', 'AEG', 'Abe', 'UE', 'ah', 'AD', 'AEF', 'OE', 'av', 'ax', 'aye', 'nae', 'ave', 'A', 'AA', 'AAE', 'AB', 'AC', 'AEA', 'AEB', 'AED', 'AEE', 'AEI', 'AEJ', 'AEK', 'AEL', 'AEM', 'AEN', 'AEO', 'AEP', 'AEQ', 'AER', 'AES', 'AET', 'AEU', 'AEV', 'AEW', 'AEX', 'AEZ', 'AFE', 'AG', 'AGE', 'AHE', 'AI', 'AIE', 'AJ', 'AK', 'AKE', 'AL', 'ALE', 'AM', 'AME', 'AN', 'ANE', 'AO', 'AOE', 'AP', 'APE', 'AR', 'ARE', 'ASE', 'AT', 'ATE', 'AU', 'AUE', 'AV', 'AVE', 'AWE', 'AX', 'AYE', 'AZ', 'AZE', 'Ac', 'Ag', 'Al', 'Am', 'Ar', 'As', 'At', 'Au', 'Av', 'Ave', 'BAE', 'Be', 'CE', 'Ce', 'DAE', 'DE', 'E', 'EAE', 'EE', 'FAE', 'Fe', 'GAE', 'GE', 'Ge', 'HAE', 'He', 'IAE', 'IE', 'JE', 'KE', 'LE', 'Le', 'ME', 'Me', 'NE', 'Ne', 'OAE', 'PAE', 'PE', 'RAE', 'RE', 'Rae', 'Re', 'SAE', 'SE', 'Se', 'TAE', 'Te', 'UAE', 'VAE', 'VE', 'Xe', 'ZAE', 'ab', 'ac', 'aw', 'e', 'ea', 're', 've', 'ye', 'A&E', 'ACE', 'CAE', 'MAE', 'ai', 'axe', 'né'], ['In'], ['online'], [], ['very, very', 'very'], [' ']], 'ErrorCaterygy': ['CASING', 'STYLE', 'TYPOS', 'CASING', 'TYPOS', 'STYLE', 'PUNCTUATION', 'TYPOGRAPHY'], 'RuleType': ['typographical', 'style', 'misspelling', 'typographical', 'misspelling', 'style', 'typographical', 'whitespace']}\n",
            "jiii\n",
            " There are pros and cons to online retail. Online retailing is a form of retailing. It has the ability to disrupt retail. It is a new space for the internet. Online retail is a form of retailing in the retail industry. It is a form of retailing in online retail. The online and offline are not related at all. There is a physical store in the offline retail space. The space online is called the online space. The store is the offline space. I believe that online retail is a form of retailing. Online retail is the most profitable form of retailing. Online retail is a form of retail. It is a form of retailing in the online space. The offline retail space is different from the online retail space. The store is the physical space of the offline retail space. The online retail space is what we call it. Online retail is a form of retailing in the offline space. The online space has been around for a long time. Online retail is not new in the offline space. The offline space is relatively new. The retail space is very old. The online retail space is new to us. There are some things in common between the online and offline retail spaces. The physical store is the offline space.\n"
          ]
        },
        {
          "output_type": "stream",
          "name": "stderr",
          "text": [
            "INFO:werkzeug:127.0.0.1 - - [14/Nov/2022 01:43:14] \"\u001b[37mPOST /GetGrammarMistakes HTTP/1.1\u001b[0m\" 200 -\n"
          ]
        },
        {
          "output_type": "stream",
          "name": "stdout",
          "text": [
            "Done\n",
            "{'ContextData': [], 'NumberOfMistakes': 0, 'MistakeMessage': [], 'PossibleReplacemEnts': [], 'ErrorCaterygy': [], 'RuleType': []}\n"
          ]
        },
        {
          "output_type": "stream",
          "name": "stderr",
          "text": [
            "INFO:werkzeug:127.0.0.1 - - [14/Nov/2022 02:15:39] \"\u001b[37mOPTIONS /GetGrammarMistakes HTTP/1.1\u001b[0m\" 200 -\n"
          ]
        },
        {
          "output_type": "stream",
          "name": "stdout",
          "text": [
            "jiii\n",
            " the pros and cons of online retail The pros and cons of online retail are numerous. First, online retail is a form of retailing. Second, it is a relatively new business model. Third, it has tremendous potential to disrupt retail. Fourth, it is a relatively new space for the internet. Online retail is a form of retailing. In the retail industry, online retail is a form of retailing. In the online retail industry, it’s a form of retailing. In essence, the online and offline ae not at all related. The offline retail space is a physical space, a store. The online space is the online space. The offline space is the physical space, the physical store. In my opinion, online retail is a form of retailing. Online retail is the most profitable form of retailing. First, online retail is a form of retailing. in the retail space, onlinse retail is a form of retailing. In the online space, it’s a form of retailing. The online retail space is not the same thing as the offline retail space. The offline retail space is the physical space, the store. The online retail space is the online retail space. Online retail is a form of retailing. In the offline space, online retail is a form of retailing. In the online space, it’s a form of retailing. The online space is relatively new. The offline space is relatively new. The online space is not new. The offline space is relatively old. The online space is relatively new. In the offline space, online retail is not new. In the offline space, online retail is relatively new. In the online space, the offline space is relatively new. The offline retail space is very old. In the offline space, the offline space is very very  old. The offline retail space is very new. The offline retail space is very new. The offline retail space is relatively new. The online retail space is relatively new. The online space is relatively new. There are some similarities between the offline and online retail spaces. The offline retail space is a physical space, a store. The online space is the online space. The offline space is the physical store. The offline space is relatively new. The online space is relatively new. The offline space\n"
          ]
        },
        {
          "output_type": "stream",
          "name": "stderr",
          "text": [
            "INFO:werkzeug:127.0.0.1 - - [14/Nov/2022 02:15:52] \"\u001b[37mPOST /GetGrammarMistakes HTTP/1.1\u001b[0m\" 200 -\n"
          ]
        },
        {
          "output_type": "stream",
          "name": "stdout",
          "text": [
            "Done\n",
            "{'ContextData': [' the pros and cons of online retail The pros...', '...ail industry, it’s a form of retailing. In essence, the online and offline ae not ...', '...ing. In essence, the online and offline ae not at all related. The offline retail ...', '..., online retail is a form of retailing. in the retail space, onlinse retail is a f...', '...form of retailing. in the retail space, onlinse retail is a form of retailing. In the o...', '...space, online retail is relatively new. In the online space, the offline space is ...', '...the offline space, the offline space is very very  old. The offline retail space is very ...', '...ne space, the offline space is very very  old. The offline retail space is very ne...'], 'NumberOfMistakes': 8, 'MistakeMessage': ['This sentence does not start with an uppercase letter.', 'Three successive sentences begin with the same word. Consider rewording the sentence or use a thesaurus to find a synonym.', 'Possible spelling mistake found.', 'This sentence does not start with an uppercase letter.', 'Possible spelling mistake found.', 'Three successive sentences begin with the same word. Consider rewording the sentence or use a thesaurus to find a synonym.', 'Consider adding a comma between these intensifiers.', 'Possible typo: you repeated a whitespace'], 'PossibleReplacemEnts': [['The'], [], ['eye', 'AE', 'a', 'as', 'at', 'an', 'are', 'he', 'we', 'be', 'me', 'age', 'am', 'eyes', 'ad', 'ace', 'ate', 'eyed', 'AF', 'Mae', 'ale', 'ape', 'awe', 'AEC', 'AEG', 'Abe', 'UE', 'ah', 'AD', 'AEF', 'OE', 'av', 'ax', 'aye', 'nae', 'ave', 'A', 'AA', 'AAE', 'AB', 'AC', 'AEA', 'AEB', 'AED', 'AEE', 'AEI', 'AEJ', 'AEK', 'AEL', 'AEM', 'AEN', 'AEO', 'AEP', 'AEQ', 'AER', 'AES', 'AET', 'AEU', 'AEV', 'AEW', 'AEX', 'AEZ', 'AFE', 'AG', 'AGE', 'AHE', 'AI', 'AIE', 'AJ', 'AK', 'AKE', 'AL', 'ALE', 'AM', 'AME', 'AN', 'ANE', 'AO', 'AOE', 'AP', 'APE', 'AR', 'ARE', 'ASE', 'AT', 'ATE', 'AU', 'AUE', 'AV', 'AVE', 'AWE', 'AX', 'AYE', 'AZ', 'AZE', 'Ac', 'Ag', 'Al', 'Am', 'Ar', 'As', 'At', 'Au', 'Av', 'Ave', 'BAE', 'Be', 'CE', 'Ce', 'DAE', 'DE', 'E', 'EAE', 'EE', 'FAE', 'Fe', 'GAE', 'GE', 'Ge', 'HAE', 'He', 'IAE', 'IE', 'JE', 'KE', 'LE', 'Le', 'ME', 'Me', 'NE', 'Ne', 'OAE', 'PAE', 'PE', 'RAE', 'RE', 'Rae', 'Re', 'SAE', 'SE', 'Se', 'TAE', 'Te', 'UAE', 'VAE', 'VE', 'Xe', 'ZAE', 'ab', 'ac', 'aw', 'e', 'ea', 're', 've', 'ye', 'A&E', 'ACE', 'CAE', 'MAE', 'ai', 'axe', 'né'], ['In'], ['online'], [], ['very, very', 'very'], [' ']], 'ErrorCaterygy': ['CASING', 'STYLE', 'TYPOS', 'CASING', 'TYPOS', 'STYLE', 'PUNCTUATION', 'TYPOGRAPHY'], 'RuleType': ['typographical', 'style', 'misspelling', 'typographical', 'misspelling', 'style', 'typographical', 'whitespace']}\n"
          ]
        },
        {
          "output_type": "stream",
          "name": "stderr",
          "text": [
            "INFO:werkzeug:127.0.0.1 - - [14/Nov/2022 02:15:52] \"\u001b[37mOPTIONS /GetGrammarMistakes HTTP/1.1\u001b[0m\" 200 -\n"
          ]
        },
        {
          "output_type": "stream",
          "name": "stdout",
          "text": [
            "jiii\n",
            " There are pros and cons to online retail. Online retailing is a form of retailing. It has the ability to disrupt retail. It is a new space for the internet. Online retail is a form of retailing in the retail industry. It is a form of retailing in online retail. The online and offline are not related at all. There is a physical store in the offline retail space. The space online is called the online space. The store is the offline space. I believe that online retail is a form of retailing. Online retail is the most profitable form of retailing. Online retail is a form of retail. It is a form of retailing in the online space. The offline retail space is different from the online retail space. The store is the physical space of the offline retail space. The online retail space is what we call it. Online retail is a form of retailing in the offline space. The online space has been around for a long time. Online retail is not new in the offline space. The offline space is relatively new. The retail space is very old. The online retail space is new to us. There are some things in common between the online and offline retail spaces. The physical store is the offline space.\n"
          ]
        },
        {
          "output_type": "stream",
          "name": "stderr",
          "text": [
            "INFO:werkzeug:127.0.0.1 - - [14/Nov/2022 02:16:05] \"\u001b[37mPOST /GetGrammarMistakes HTTP/1.1\u001b[0m\" 200 -\n"
          ]
        },
        {
          "output_type": "stream",
          "name": "stdout",
          "text": [
            "Done\n",
            "{'ContextData': [], 'NumberOfMistakes': 0, 'MistakeMessage': [], 'PossibleReplacemEnts': [], 'ErrorCaterygy': [], 'RuleType': []}\n"
          ]
        },
        {
          "output_type": "stream",
          "name": "stderr",
          "text": [
            "INFO:werkzeug:127.0.0.1 - - [14/Nov/2022 02:18:01] \"\u001b[37mOPTIONS /GetGrammarMistakes HTTP/1.1\u001b[0m\" 200 -\n"
          ]
        },
        {
          "output_type": "stream",
          "name": "stdout",
          "text": [
            "jiii\n",
            " Sourcess of alternativ energy in the United States Alternative energy sources exist in the U.S. Despite the fact that the U.S. produces far more energy per capita than other industrialized countries, the U.S. is unable to generate its own alternative energy. U.S. energy imports come mainly from two sources: hydroelectric power and coal power. Hydropower is the most common source of U.S. energy. Hydropower The primary power source in the U.S. is hydroelectric power. In most of the U.S. states, a dam or lake is the primary power source. In the South, the sources of power are the Mississippi River River  and the Colorado River. In the West, the sources of power are the Colorado River and the Black River in Colorado. In the U.S. the power is produced by damming rivers, and using wind or solar energy to create electricity. In the early years, the power was available from a small number of power plants built at the turn of the 20th century to meet the needs of the growing middle class. Since then, the number of power plants has increased. Despite the fact that the U.S. produces far more energy per capita than other industrialized countriescountries, the U.S. is unable to generate its own alternative energy. U.S. energy imports come mainly from two sources: hydroelectric power and coal power. Hydroelectric power is the most common source of U.S. energy. Hydroelectric power Hydroelectric power is the primary sources of U.S. energy. In the early years, the power was available from a small number of power plants built at the turn of the 20th century to meet the needs of the growing middle class. Since then, the number of power plants has increased. In the U.S., the power is produced by damming rivers, and using wind or solar energy to create electricity. In the early years, the power was availables from a small number of power plants built at the turn of the 20th century to meet the needs of the growing middle class. Since then, the number of power plants has increased. Despite the fact that the U.S. produces far more energy per capita than other industrialized countries, the U.S. is unable to generate its own alternative energy. U.S. energy imports come mainly from two sources: hydroelectric power...\n"
          ]
        },
        {
          "output_type": "stream",
          "name": "stderr",
          "text": [
            "INFO:werkzeug:127.0.0.1 - - [14/Nov/2022 02:18:17] \"\u001b[37mPOST /GetGrammarMistakes HTTP/1.1\u001b[0m\" 200 -\n"
          ]
        },
        {
          "output_type": "stream",
          "name": "stdout",
          "text": [
            "Done\n",
            "{'ContextData': [' Sourcess of alternativ energy in the United Stat...', ' Sourcess of alternativ energy in the United States Alternative...', '...he sources of power are the Mississippi River River  and the Colorado River. In the West, t...', '...of power are the Mississippi River River  and the Colorado River. In the West, the...', '...pi River River  and the Colorado River. In the West, the sources of power are the ...', '... River and the Black River in Colorado. In the U.S. the power is produced by dammi...', '... or solar energy to create electricity. In the early years, the power was availabl...', '...rly years, the power was available from a small number of power plants built at the turn of the 2...', '...gy per capita than other industrialized countriescountries, the U.S. is unable to generate its own...', '... the most common source of U.S. energy. Hydroelectric power Hydroelectric power is the primary sources of U.S. energy. ...', '...rly years, the power was available from a small number of power plants built at the turn of the 2...', '...city. In the early years, the power was availables from a small number of power plants bui...', '...ly years, the power was availables from a small number of power plants built at the turn of the 2...'], 'NumberOfMistakes': 13, 'MistakeMessage': ['Possible spelling mistake found.', 'Possible spelling mistake found.', 'Possible typo: you repeated a word', 'Possible typo: you repeated a whitespace', 'Three successive sentences begin with the same word. Consider rewording the sentence or use a thesaurus to find a synonym.', 'Three successive sentences begin with the same word. Consider rewording the sentence or use a thesaurus to find a synonym.', 'Three successive sentences begin with the same word. Consider rewording the sentence or use a thesaurus to find a synonym.', 'Specify a number, remove phrase, use “a few”, or use “some”', 'Possible spelling mistake found.', 'This phrase is duplicated. You should probably use “Hydroelectric power” only once.', 'Specify a number, remove phrase, use “a few”, or use “some”', 'Possible spelling mistake found.', 'Specify a number, remove phrase, use “a few”, or use “some”'], 'PossibleReplacemEnts': [['Sources', 'Sourness'], ['alternative'], ['River'], [' '], [], [], [], ['a few', 'some'], ['countries countries'], ['Hydroelectric power'], ['a few', 'some'], ['available'], ['a few', 'some']], 'ErrorCaterygy': ['TYPOS', 'TYPOS', 'MISC', 'TYPOGRAPHY', 'STYLE', 'STYLE', 'STYLE', 'REDUNDANCY', 'TYPOS', 'GRAMMAR', 'REDUNDANCY', 'TYPOS', 'REDUNDANCY'], 'RuleType': ['misspelling', 'misspelling', 'duplication', 'whitespace', 'style', 'style', 'style', 'style', 'misspelling', 'grammar', 'style', 'misspelling', 'style']}\n"
          ]
        },
        {
          "output_type": "stream",
          "name": "stderr",
          "text": [
            "INFO:werkzeug:127.0.0.1 - - [14/Nov/2022 02:18:17] \"\u001b[37mOPTIONS /GetGrammarMistakes HTTP/1.1\u001b[0m\" 200 -\n"
          ]
        },
        {
          "output_type": "stream",
          "name": "stdout",
          "text": [
            "jiii\n",
            " There are alternative energy sources in the United States. The US produces more energy per capita than other industrialized countries. It is not able to generate its own alternative energy. U S Coal power and hydroelectric power are the two main sources of energy imports. The most common source of US is hydropower. The primary power source in the US is hydropower. A dam or lake is the primary power source. The Mississippi River and Colorado River are the main sources of power in the South. The sources of power in the west are the Colorado River and the Black River. The power is produced by damming rivers and using wind or solar energy. In the early years of the 20th century, a small number of power plants were built to meet the needs of the growing middle class. The number of power plants has gone up. The primary source of US is hydroelectric power. The power is created by damming rivers and using wind or solar energy. U.S. hydroelectric power is one of the main sources of energy imports.\n"
          ]
        },
        {
          "output_type": "stream",
          "name": "stderr",
          "text": [
            "INFO:werkzeug:127.0.0.1 - - [14/Nov/2022 02:18:33] \"\u001b[37mPOST /GetGrammarMistakes HTTP/1.1\u001b[0m\" 200 -\n"
          ]
        },
        {
          "output_type": "stream",
          "name": "stdout",
          "text": [
            "Done\n",
            "{'ContextData': ['...In the early years of the 20th century, a small number of power plants were built to meet the nee...'], 'NumberOfMistakes': 1, 'MistakeMessage': ['Specify a number, remove phrase, use “a few”, or use “some”'], 'PossibleReplacemEnts': [['a few', 'some']], 'ErrorCaterygy': ['REDUNDANCY'], 'RuleType': ['style']}\n"
          ]
        }
      ]
    }
  ]
}